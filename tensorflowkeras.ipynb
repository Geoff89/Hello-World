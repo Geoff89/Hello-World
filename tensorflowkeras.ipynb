{
  "nbformat": 4,
  "nbformat_minor": 0,
  "metadata": {
    "colab": {
      "name": "tensorflowkeras.ipynb",
      "version": "0.3.2",
      "provenance": [],
      "include_colab_link": true
    },
    "kernelspec": {
      "name": "python3",
      "display_name": "Python 3"
    }
  },
  "cells": [
    {
      "cell_type": "markdown",
      "metadata": {
        "id": "view-in-github",
        "colab_type": "text"
      },
      "source": [
        "<a href=\"https://colab.research.google.com/github/Geoff89/Hello-World/blob/master/tensorflowkeras.ipynb\" target=\"_parent\"><img src=\"https://colab.research.google.com/assets/colab-badge.svg\" alt=\"Open In Colab\"/></a>"
      ]
    },
    {
      "cell_type": "code",
      "metadata": {
        "id": "geHmtqLVTlQI",
        "colab_type": "code",
        "colab": {}
      },
      "source": [
        "import tensorflow as  tf\n",
        "import pandas as pd\n",
        "import numpy as np\n",
        "import matplotlib.pyplot as plt\n"
      ],
      "execution_count": 0,
      "outputs": []
    },
    {
      "cell_type": "code",
      "metadata": {
        "id": "bj0GuQxcmGgA",
        "colab_type": "code",
        "colab": {}
      },
      "source": [
        "optimizer = tf.train.GradientDescentOptimizer(10)"
      ],
      "execution_count": 0,
      "outputs": []
    },
    {
      "cell_type": "code",
      "metadata": {
        "id": "BSQWeASr2pFk",
        "colab_type": "code",
        "colab": {}
      },
      "source": [
        "optimizer.minimize(loss)"
      ],
      "execution_count": 0,
      "outputs": []
    },
    {
      "cell_type": "code",
      "metadata": {
        "id": "eG-9pg_L4U7r",
        "colab_type": "code",
        "colab": {
          "base_uri": "https://localhost:8080/",
          "height": 35
        },
        "outputId": "8f85c5ce-9ec4-4448-d153-7c6890261c9e"
      },
      "source": [
        "## Linear regression model manually\n",
        "\n",
        "#model parameters\n",
        "W = tf.Variable([.3], dtype= tf.float32)\n",
        "b = tf.Variable([-3.],  dtype= tf.float32)\n",
        "\n",
        "#model input\n",
        "x = tf.placeholder(tf.float32)\n",
        "linear_model = W*x + b\n",
        "y = tf.placeholder(tf.float32)\n",
        "\n",
        "#loss\n",
        "loss = tf.reduce_sum(tf.square(linear_model - y)) #sum of squares\n",
        "#optimizer\n",
        "optimizer = tf.train.GradientDescentOptimizer(0.01)\n",
        "train = optimizer.minimize(loss)\n",
        "\n",
        "#training data\n",
        "X_train = [1, 2, 3, 4]\n",
        "y_train = [0, -1, -2, -3]\n",
        "#training loop\n",
        "init = tf.global_variables_initializer()\n",
        "sess = tf.Session()\n",
        "sess.run(init)  #reset values to wrong\n",
        "for i in range(1000):\n",
        "  sess.run(train, {x: X_train, y: y_train})\n",
        "  \n",
        "#evaluate training accuracy\n",
        "curr_W, curr_b, curr_loss = sess.run([W, b, loss], {x: X_train, y: y_train})\n",
        "print(\"W: %s b: %s loss: %s\" %(curr_W, curr_b, curr_loss))\n",
        "\n"
      ],
      "execution_count": 8,
      "outputs": [
        {
          "output_type": "stream",
          "text": [
            "W: [-0.999992] b: [0.99997646] loss: 3.699121e-10\n"
          ],
          "name": "stdout"
        }
      ]
    },
    {
      "cell_type": "code",
      "metadata": {
        "id": "2703qoCe-4xe",
        "colab_type": "code",
        "colab": {}
      },
      "source": [
        ""
      ],
      "execution_count": 0,
      "outputs": []
    }
  ]
}